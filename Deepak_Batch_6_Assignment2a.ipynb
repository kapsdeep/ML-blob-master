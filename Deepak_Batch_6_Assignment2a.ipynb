{
 "cells": [
  {
   "cell_type": "markdown",
   "metadata": {},
   "source": [
    "## Python basics"
   ]
  },
  {
   "cell_type": "markdown",
   "metadata": {},
   "source": [
    "#### Sorting using List comprehensions"
   ]
  },
  {
   "cell_type": "code",
   "execution_count": 2,
   "metadata": {},
   "outputs": [
    {
     "name": "stdout",
     "output_type": "stream",
     "text": [
      "[1, 1, 2, 3, 6, 8, 10]\n"
     ]
    }
   ],
   "source": [
    "def quicksort(arr):\n",
    "    if len(arr) <= 1:\n",
    "        return arr\n",
    "    eip = arr[len(arr) // 2]\n",
    "    eip_in = [mlblr_in for mlblr_in in arr if mlblr_in < eip]\n",
    "    eip_list = [mlblr_in for mlblr_in in arr if mlblr_in == eip]\n",
    "    eip_dict = [mlblr_in for mlblr_in in arr if mlblr_in > eip]    \n",
    "    return quicksort(eip_in) + eip_list + quicksort(eip_dict)\n",
    "\n",
    "print(quicksort([3,6,8,10,1,2,1]))"
   ]
  },
  {
   "cell_type": "markdown",
   "metadata": {},
   "source": [
    "### Basic data types"
   ]
  },
  {
   "cell_type": "markdown",
   "metadata": {},
   "source": [
    "#### Integers & Floats"
   ]
  },
  {
   "cell_type": "code",
   "execution_count": 3,
   "metadata": {},
   "outputs": [
    {
     "name": "stdout",
     "output_type": "stream",
     "text": [
      "<class 'int'>\n",
      "3\n",
      "4\n",
      "2\n",
      "6\n",
      "9\n",
      "5\n",
      "<class 'float'>\n",
      "2.5 3.5 5.0 6.25\n"
     ]
    }
   ],
   "source": [
    "eip =3 \n",
    "print(type(eip))\n",
    "print(eip)\n",
    "print(eip + 1)\n",
    "print(eip - 1)\n",
    "print(eip * 2)\n",
    "print(eip ** 2)\n",
    "eip += 2\n",
    "print(eip)\n",
    "mlblr = 2.5\n",
    "print(type(mlblr))\n",
    "print(mlblr, mlblr + 1, mlblr * 2, mlblr **2)"
   ]
  },
  {
   "cell_type": "markdown",
   "metadata": {},
   "source": [
    "#### Booleans"
   ]
  },
  {
   "cell_type": "code",
   "execution_count": 4,
   "metadata": {},
   "outputs": [
    {
     "name": "stdout",
     "output_type": "stream",
     "text": [
      "<class 'bool'>\n",
      "False\n",
      "True\n",
      "True\n",
      "True\n"
     ]
    }
   ],
   "source": [
    "eip = True\n",
    "mlblr = False\n",
    "print(type(eip))\n",
    "print(eip and mlblr)\n",
    "print(eip or mlblr)\n",
    "print(not mlblr)\n",
    "print(eip != mlblr)"
   ]
  },
  {
   "cell_type": "markdown",
   "metadata": {},
   "source": [
    "#### Strings"
   ]
  },
  {
   "cell_type": "code",
   "execution_count": 5,
   "metadata": {},
   "outputs": [
    {
     "name": "stdout",
     "output_type": "stream",
     "text": [
      "Hello\n",
      "HELLO\n",
      "  hello\n",
      " hello \n",
      "he(ell)(ell)o\n",
      "world\n"
     ]
    }
   ],
   "source": [
    "eip = \"hello\"\n",
    "print(eip.capitalize())\n",
    "print(eip.upper())\n",
    "print(eip.rjust(7))\n",
    "print(eip.center(7))\n",
    "print(eip.replace('l', '(ell)'))\n",
    "print(' world '.strip())"
   ]
  },
  {
   "cell_type": "markdown",
   "metadata": {},
   "source": [
    "### Containers"
   ]
  },
  {
   "cell_type": "markdown",
   "metadata": {},
   "source": [
    "#### Lists\n",
    "[more on lists ](https://docs.python.org/3.5/tutorial/datastructures.html#more-on-lists)"
   ]
  },
  {
   "cell_type": "code",
   "execution_count": 6,
   "metadata": {},
   "outputs": [
    {
     "name": "stdout",
     "output_type": "stream",
     "text": [
      "[3, 1, 2] 2\n",
      "2\n",
      "[3, 1, 'foo']\n",
      "[3, 1, 'foo', 'bar']\n",
      "bar [3, 1, 'foo']\n"
     ]
    }
   ],
   "source": [
    "eip = [3, 1, 2]\n",
    "print(eip, eip[2])\n",
    "print(eip[-1])\n",
    "eip[2] = 'foo'\n",
    "print(eip)\n",
    "eip.append('bar')\n",
    "print(eip)\n",
    "mlblr = eip.pop()\n",
    "print(mlblr, eip)"
   ]
  },
  {
   "cell_type": "markdown",
   "metadata": {},
   "source": [
    "#### Slicing"
   ]
  },
  {
   "cell_type": "code",
   "execution_count": 7,
   "metadata": {},
   "outputs": [
    {
     "name": "stdout",
     "output_type": "stream",
     "text": [
      "[0, 1, 2, 3, 4]\n",
      "[2, 3]\n",
      "[2, 3, 4]\n",
      "[0, 1, 2, 3]\n",
      "[0, 1, 2, 3, 4]\n",
      "[0, 1, 2, 3]\n",
      "[0, 1, 8, 9, 4]\n"
     ]
    }
   ],
   "source": [
    "eip = list(range(5))\n",
    "print(eip)\n",
    "print(eip[2:4])\n",
    "print(eip[2:])\n",
    "print(eip[:4])\n",
    "print(eip[:])\n",
    "print(eip[:-1])\n",
    "eip[2:4] = [8,9]\n",
    "print(eip)"
   ]
  },
  {
   "cell_type": "markdown",
   "metadata": {},
   "source": [
    "#### Loop over lists"
   ]
  },
  {
   "cell_type": "code",
   "execution_count": 9,
   "metadata": {},
   "outputs": [
    {
     "name": "stdout",
     "output_type": "stream",
     "text": [
      "cat\n",
      "dog\n",
      "monkey\n"
     ]
    }
   ],
   "source": [
    "# looping over list\n",
    "mlblr = ['cat', 'dog', 'monkey']\n",
    "for eip in mlblr:\n",
    "    print(eip)"
   ]
  },
  {
   "cell_type": "code",
   "execution_count": 11,
   "metadata": {},
   "outputs": [
    {
     "name": "stdout",
     "output_type": "stream",
     "text": [
      "#0: cat\n",
      "#1: dog\n",
      "#2: monkey\n"
     ]
    }
   ],
   "source": [
    "#enumerate over list\n",
    "mlblr = ['cat', 'dog', 'monkey']\n",
    "for eip, eip_in in enumerate(mlblr):\n",
    "    print('#%d: %s' % (eip, eip_in))"
   ]
  },
  {
   "cell_type": "markdown",
   "metadata": {},
   "source": [
    "#### List comprehension"
   ]
  },
  {
   "cell_type": "code",
   "execution_count": 14,
   "metadata": {},
   "outputs": [
    {
     "name": "stdout",
     "output_type": "stream",
     "text": [
      "[0, 1, 4, 9, 16] [0, 4, 16]\n"
     ]
    }
   ],
   "source": [
    "eip = range(5)\n",
    "mlblr = [mlblr_in **2 for mlblr_in in eip]\n",
    "mlblr_out = [mlblr_in **2 for mlblr_in in eip if mlblr_in % 2 == 0]\n",
    "print(mlblr, mlblr_out)"
   ]
  },
  {
   "cell_type": "markdown",
   "metadata": {},
   "source": [
    "#### Dictionaries\n",
    "[more on dictionaries](https://docs.python.org/3.5/library/stdtypes.html#dict)"
   ]
  },
  {
   "cell_type": "code",
   "execution_count": 32,
   "metadata": {},
   "outputs": [
    {
     "name": "stdout",
     "output_type": "stream",
     "text": [
      "cute\n",
      "True\n",
      "wet\n",
      "N/A\n",
      "wet\n",
      "N/A\n"
     ]
    }
   ],
   "source": [
    "eip = {'cat': 'cute', 'dog': 'furry'}\n",
    "print(eip['cat'])\n",
    "print('cat' in eip)\n",
    "eip['fish'] = 'wet'\n",
    "print(eip['fish'])\n",
    "print(eip.get('monkey','N/A'))\n",
    "print(eip.get('fish','N/A'))\n",
    "del eip['fish']\n",
    "print(eip.get('fish','N/A'))"
   ]
  },
  {
   "cell_type": "markdown",
   "metadata": {},
   "source": [
    "#### loop over dictionaries"
   ]
  },
  {
   "cell_type": "code",
   "execution_count": 19,
   "metadata": {},
   "outputs": [
    {
     "name": "stdout",
     "output_type": "stream",
     "text": [
      "Key cat => value cute\n",
      "Key dog => value furry\n"
     ]
    }
   ],
   "source": [
    "eip = {'cat': 'cute', 'dog': 'furry'}\n",
    "for mlblr in eip:\n",
    "    mlblr_out = eip[mlblr]\n",
    "    print('Key %s => value %s' % (mlblr, mlblr_out))"
   ]
  },
  {
   "cell_type": "code",
   "execution_count": 26,
   "metadata": {},
   "outputs": [
    {
     "name": "stdout",
     "output_type": "stream",
     "text": [
      "index#cat => value cute\n",
      "index#dog => value furry\n"
     ]
    }
   ],
   "source": [
    "eip = {'cat': 'cute', 'dog': 'furry'}\n",
    "for mlblr, mlblr_out in eip.items():\n",
    "    print('index#%s => value %s' % (mlblr, mlblr_out))"
   ]
  },
  {
   "cell_type": "markdown",
   "metadata": {},
   "source": [
    "#### Dictionary comprehension"
   ]
  },
  {
   "cell_type": "code",
   "execution_count": 22,
   "metadata": {},
   "outputs": [
    {
     "name": "stdout",
     "output_type": "stream",
     "text": [
      "{0: 0, 2: 4, 4: 16}\n"
     ]
    }
   ],
   "source": [
    "eip = range(5)\n",
    "mlblr = {mlblr_in: mlblr_in **2 for mlblr_in in eip if mlblr_in %2 == 0}\n",
    "print(mlblr)"
   ]
  },
  {
   "cell_type": "markdown",
   "metadata": {},
   "source": [
    "#### Sets"
   ]
  },
  {
   "cell_type": "code",
   "execution_count": 23,
   "metadata": {},
   "outputs": [
    {
     "name": "stdout",
     "output_type": "stream",
     "text": [
      "True\n",
      "False\n",
      "True\n",
      "3\n",
      "3\n",
      "2\n"
     ]
    }
   ],
   "source": [
    "eip = {'cat','dog'}\n",
    "print('cat' in eip)\n",
    "print('fish' in eip)\n",
    "eip.add('fish')\n",
    "print('fish' in eip)\n",
    "print(len(eip))\n",
    "eip.add('cat')\n",
    "print(len(eip))\n",
    "eip.remove('cat')\n",
    "print(len(eip))"
   ]
  },
  {
   "cell_type": "markdown",
   "metadata": {},
   "source": [
    "#### loop over sets"
   ]
  },
  {
   "cell_type": "code",
   "execution_count": 27,
   "metadata": {},
   "outputs": [
    {
     "name": "stdout",
     "output_type": "stream",
     "text": [
      "#0 => value cat\n",
      "#1 => value fish\n",
      "#2 => value dog\n"
     ]
    }
   ],
   "source": [
    "eip = {'cat','dog', 'fish'}\n",
    "for eip_in, eip_out in enumerate(eip):\n",
    "    print('#%d => value %s' % (eip_in, eip_out))"
   ]
  },
  {
   "cell_type": "markdown",
   "metadata": {},
   "source": [
    "#### Set comprehensions"
   ]
  },
  {
   "cell_type": "code",
   "execution_count": 29,
   "metadata": {},
   "outputs": [
    {
     "name": "stdout",
     "output_type": "stream",
     "text": [
      "{0, 1, 2, 3, 4, 5}\n"
     ]
    }
   ],
   "source": [
    "from math import sqrt\n",
    "eip = {int(sqrt(eip_in)) for eip_in in range(30)}\n",
    "print(eip)"
   ]
  },
  {
   "cell_type": "markdown",
   "metadata": {},
   "source": [
    "#### Tuples"
   ]
  },
  {
   "cell_type": "code",
   "execution_count": 35,
   "metadata": {},
   "outputs": [
    {
     "name": "stdout",
     "output_type": "stream",
     "text": [
      "<class 'tuple'>\n",
      "{(0, 1): 0, (1, 2): 1, (2, 3): 2, (3, 4): 3, (4, 5): 4, (5, 6): 5, (6, 7): 6, (7, 8): 7, (8, 9): 8, (9, 10): 9}\n",
      "5\n",
      "1\n"
     ]
    }
   ],
   "source": [
    "eip = {(eip_in, eip_in + 1): eip_in for eip_in in range(10)}\n",
    "eip_out = (5, 6)\n",
    "print(type(eip_out))\n",
    "print(eip)\n",
    "print(eip[eip_out])\n",
    "print(eip[1, 2])"
   ]
  },
  {
   "cell_type": "markdown",
   "metadata": {},
   "source": [
    "#### Functions"
   ]
  },
  {
   "cell_type": "code",
   "execution_count": 36,
   "metadata": {},
   "outputs": [
    {
     "name": "stdout",
     "output_type": "stream",
     "text": [
      "Morning MAGLEV\n",
      "Afternoon maglev\n"
     ]
    }
   ],
   "source": [
    "def eip(eip_in, mlblr_in=1):\n",
    "    if mlblr_in == 1:\n",
    "        print('Morning %s' % eip_in.upper())\n",
    "    else:\n",
    "        print('Afternoon %s' % eip_in)\n",
    "eip('maglev')\n",
    "eip('maglev',3)"
   ]
  },
  {
   "cell_type": "markdown",
   "metadata": {},
   "source": [
    "#### Classes"
   ]
  },
  {
   "cell_type": "code",
   "execution_count": 40,
   "metadata": {},
   "outputs": [
    {
     "name": "stdout",
     "output_type": "stream",
     "text": [
      "Afternoon Fred\n",
      "Morning FRED\n"
     ]
    }
   ],
   "source": [
    "class eip_list():\n",
    "    \n",
    "    #Constructor\n",
    "    def __init__(self, eip):\n",
    "        self.eip = eip\n",
    "        \n",
    "    #Instance method\n",
    "    def mlblr(self, mlblr_out=False):\n",
    "        if mlblr_out:\n",
    "            print('Morning %s' % self.eip.upper())\n",
    "        else:\n",
    "            print('Afternoon %s' % self.eip)\n",
    "\n",
    "eip_in = eip_list('Fred')\n",
    "eip_in.mlblr()\n",
    "eip_in.mlblr(mlblr_out=True)                  "
   ]
  },
  {
   "cell_type": "markdown",
   "metadata": {},
   "source": [
    "## Numpy\n",
    "is the core library for scientific computing in Python providing high-performance multi-dimensional array object and tools for working with these arrays"
   ]
  },
  {
   "cell_type": "markdown",
   "metadata": {},
   "source": [
    "### Arrays"
   ]
  },
  {
   "cell_type": "code",
   "execution_count": null,
   "metadata": {},
   "outputs": [],
   "source": [
    "import numpy as np\n",
    "\n",
    "eip = np.array([1, 2, 3])\n",
    "print(type(eip))\n",
    "print(eip.shape)\n",
    "print(eip[0], eip[1], eip[2])\n",
    "eip[0] = 5\n",
    "print eip\n",
    "\n",
    "eip = np.array([1,2,3],[4,5,6])\n",
    "print(eip.shape)\n",
    "print(eip[0,0], eip[0,1], )"
   ]
  },
  {
   "cell_type": "code",
   "execution_count": 59,
   "metadata": {},
   "outputs": [
    {
     "name": "stdout",
     "output_type": "stream",
     "text": [
      "[[0. 0.]\n",
      " [0. 0.]]\n",
      "[[1. 1.]]\n",
      "[[7 7]\n",
      " [7 7]]\n",
      "[[1. 0.]\n",
      " [0. 1.]]\n",
      "[[0.66992833 0.9836099 ]\n",
      " [0.7022896  0.35979794]]\n",
      "[[0.28183056 0.38291168]\n",
      " [0.95845895 0.5803167 ]]\n"
     ]
    }
   ],
   "source": [
    "import numpy as np\n",
    "\n",
    "eip_list = np.zeros((2,2))\n",
    "print(eip_list)\n",
    "\n",
    "eip_list = np.ones((1,2))\n",
    "print(eip_list)\n",
    "\n",
    "eip_list = np.full((2,2),7)\n",
    "print(eip_list)\n",
    "\n",
    "eip_list = np.eye(2)\n",
    "print(eip_list)\n",
    "\n",
    "eip_list = np.random.rand(2,2)\n",
    "print(eip_list)\n",
    "\n",
    "eip_list = np.random.random((2,2))\n",
    "print(eip_list)"
   ]
  },
  {
   "cell_type": "markdown",
   "metadata": {},
   "source": [
    "#### Array Indexing"
   ]
  },
  {
   "cell_type": "code",
   "execution_count": 61,
   "metadata": {},
   "outputs": [
    {
     "name": "stdout",
     "output_type": "stream",
     "text": [
      "2\n",
      "77\n"
     ]
    }
   ],
   "source": [
    "import numpy as np\n",
    "eip = np.array([[1,2,3,4], [5,6,7,8], [9,10,11,12]])\n",
    "eip_in = eip[:2, 1:3]\n",
    "print(eip[0,1])\n",
    "eip_in[0,0] = 77\n",
    "print(eip[0, 1])"
   ]
  },
  {
   "cell_type": "code",
   "execution_count": 62,
   "metadata": {},
   "outputs": [
    {
     "name": "stdout",
     "output_type": "stream",
     "text": [
      "[5 6 7 8] (4,)\n",
      "[[5 6 7 8]] (1, 4)\n",
      "[ 2  6 10] (3,)\n",
      "[[ 2]\n",
      " [ 6]\n",
      " [10]] (3, 1)\n"
     ]
    }
   ],
   "source": [
    "import numpy as np\n",
    "eip = np.array([[1,2,3,4], [5,6,7,8], [9,10,11,12]])\n",
    "eip_in = eip[1, :]\n",
    "eip_out = eip[1:2, :]\n",
    "print(eip_in, eip_in.shape)\n",
    "print(eip_out, eip_out.shape)\n",
    "\n",
    "\n",
    "eip_in = eip[:, 1]\n",
    "eip_out = eip[:, 1:2]\n",
    "print(eip_in, eip_in.shape)\n",
    "print(eip_out, eip_out.shape)"
   ]
  },
  {
   "cell_type": "code",
   "execution_count": null,
   "metadata": {},
   "outputs": [],
   "source": []
  },
  {
   "cell_type": "code",
   "execution_count": null,
   "metadata": {},
   "outputs": [],
   "source": []
  },
  {
   "cell_type": "code",
   "execution_count": null,
   "metadata": {},
   "outputs": [],
   "source": []
  },
  {
   "cell_type": "code",
   "execution_count": null,
   "metadata": {},
   "outputs": [],
   "source": []
  },
  {
   "cell_type": "code",
   "execution_count": null,
   "metadata": {},
   "outputs": [],
   "source": []
  },
  {
   "cell_type": "code",
   "execution_count": null,
   "metadata": {},
   "outputs": [],
   "source": []
  },
  {
   "cell_type": "code",
   "execution_count": null,
   "metadata": {},
   "outputs": [],
   "source": []
  }
 ],
 "metadata": {
  "kernelspec": {
   "display_name": "Python 3",
   "language": "python",
   "name": "python3"
  },
  "language_info": {
   "codemirror_mode": {
    "name": "ipython",
    "version": 3
   },
   "file_extension": ".py",
   "mimetype": "text/x-python",
   "name": "python",
   "nbconvert_exporter": "python",
   "pygments_lexer": "ipython3",
   "version": "3.6.3"
  }
 },
 "nbformat": 4,
 "nbformat_minor": 2
}
