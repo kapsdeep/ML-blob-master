{
 "cells": [
  {
   "cell_type": "markdown",
   "metadata": {},
   "source": [
    "# Forward Propogation"
   ]
  },
  {
   "cell_type": "markdown",
   "metadata": {},
   "source": [
    "## Read Inputs"
   ]
  },
  {
   "cell_type": "code",
   "execution_count": 1,
   "metadata": {},
   "outputs": [
    {
     "name": "stdout",
     "output_type": "stream",
     "text": [
      "Input shape: (3, 4) Input: [[1. 0. 1. 0.]\n",
      " [1. 0. 1. 1.]\n",
      " [0. 1. 0. 1.]]\n",
      "Output shape: (1, 3) Output: [[1 1 0]]\n"
     ]
    }
   ],
   "source": [
    "import numpy as np\n",
    "X = np.array([[1.0, 0, 1.0, 0], [1.0, 0, 1.0, 1.0], [0, 1.0, 0, 1.0]])\n",
    "Y = np.array([[1, 1, 0]])\n",
    "print('Input shape:', X.shape, 'Input:', X)\n",
    "print('Output shape:', Y.shape, 'Output:', Y)"
   ]
  },
  {
   "cell_type": "markdown",
   "metadata": {},
   "source": [
    "## Initialize weights & bias"
   ]
  },
  {
   "cell_type": "code",
   "execution_count": 2,
   "metadata": {},
   "outputs": [
    {
     "name": "stdout",
     "output_type": "stream",
     "text": [
      "layer1 weights shape (4, 3)\n",
      "layer1 weights [[0.06038098 0.05442538 0.96376134]\n",
      " [0.64180367 0.8070637  0.1598953 ]\n",
      " [0.49875286 0.3776959  0.25468489]\n",
      " [0.92692758 0.67455849 0.00244359]]\n",
      "layer1 bias shape (1, 3)\n",
      "layer1 bias [[0.57898632 0.33377876 0.58512972]]\n"
     ]
    }
   ],
   "source": [
    "wh = np.random.random((4,3))\n",
    "#wh = np.array([[0.42, 0.88, 0.55], [0.1, 0.73, 0.68], [0.60, 0.18, 0.47], [0.92, 0.11, 0.52]])\n",
    "bh = np.random.random((1,3))\n",
    "#bh = np.array([[0.46, 0.72, 0.08]])\n",
    "print('layer1 weights shape', wh.shape)\n",
    "print('layer1 weights', wh)\n",
    "print('layer1 bias shape', bh.shape)\n",
    "print('layer1 bias', bh)"
   ]
  },
  {
   "cell_type": "markdown",
   "metadata": {},
   "source": [
    "## Calculate hidden layer inputs"
   ]
  },
  {
   "cell_type": "code",
   "execution_count": 3,
   "metadata": {},
   "outputs": [
    {
     "name": "stdout",
     "output_type": "stream",
     "text": [
      "[[1.13812016 0.76590005 1.80357595]\n",
      " [2.06504774 1.44045854 1.80601955]\n",
      " [2.14771757 1.81540095 0.74746862]]\n"
     ]
    }
   ],
   "source": [
    "z1 = np.add(np.dot(X,wh),bh)\n",
    "print(z1)"
   ]
  },
  {
   "cell_type": "markdown",
   "metadata": {},
   "source": [
    "## Calculate hidden layer activations"
   ]
  },
  {
   "cell_type": "code",
   "execution_count": 4,
   "metadata": {},
   "outputs": [
    {
     "name": "stdout",
     "output_type": "stream",
     "text": [
      "[[0.75733433 0.68263333 0.85858368]\n",
      " [0.8874593  0.80852565 0.85888011]\n",
      " [0.8954553  0.86001336 0.67862687]]\n"
     ]
    }
   ],
   "source": [
    "def sigmoid(x):\n",
    "    return 1/(1 + np.exp(-1 * x))\n",
    "a1 = sigmoid(z1)\n",
    "print(a1)"
   ]
  },
  {
   "cell_type": "markdown",
   "metadata": {},
   "source": [
    "## Calculate output layer inputs"
   ]
  },
  {
   "cell_type": "code",
   "execution_count": 5,
   "metadata": {},
   "outputs": [
    {
     "name": "stdout",
     "output_type": "stream",
     "text": [
      "[[0.84757414 0.83217936 0.84747263]]\n"
     ]
    }
   ],
   "source": [
    "wout = np.random.random((1,3))\n",
    "#wout = np.array([[0.3, 0.25, 0.23]])\n",
    "bout = np.random.random((1,1))\n",
    "#bout = np.array([[0.69]])\n",
    "z2 = np.add(np.dot(wout,a1),bout)\n",
    "output = sigmoid(z2)\n",
    "print(output)"
   ]
  },
  {
   "cell_type": "markdown",
   "metadata": {},
   "source": [
    "## Slope of sigmoid"
   ]
  },
  {
   "cell_type": "code",
   "execution_count": 6,
   "metadata": {},
   "outputs": [
    {
     "name": "stdout",
     "output_type": "stream",
     "text": [
      "error: [[ 0.15242586  0.16782064 -0.84747263]]\n",
      "slope_output_layer: [[0.12919222 0.13965687 0.12926277]]\n",
      "slope_hidden_layer [[0.18377904 0.21664507 0.12141775]\n",
      " [0.09987529 0.15481192 0.12120507]\n",
      " [0.09361511 0.12039038 0.21809244]]\n"
     ]
    }
   ],
   "source": [
    "error = Y - output\n",
    "print('error:', error)\n",
    "slope_output_layer = output*(1 - output)  #derivative of sigmoid = sigmoid * (1 - sigmoid)\n",
    "print('slope_output_layer:', slope_output_layer)\n",
    "slope_hidden_layer = a1 * (1 - a1)\n",
    "print('slope_hidden_layer', slope_hidden_layer)"
   ]
  },
  {
   "cell_type": "markdown",
   "metadata": {},
   "source": [
    "## Delta at output layer"
   ]
  },
  {
   "cell_type": "code",
   "execution_count": 7,
   "metadata": {},
   "outputs": [
    {
     "name": "stdout",
     "output_type": "stream",
     "text": [
      "d_output: [[ 0.01969223  0.0234373  -0.10954666]]\n"
     ]
    }
   ],
   "source": [
    "d_output = error * slope_output_layer\n",
    "print('d_output:', d_output)"
   ]
  },
  {
   "cell_type": "markdown",
   "metadata": {},
   "source": [
    "## Delta at hidden layer"
   ]
  },
  {
   "cell_type": "code",
   "execution_count": 8,
   "metadata": {},
   "outputs": [
    {
     "name": "stdout",
     "output_type": "stream",
     "text": [
      "error_hidden_layer: [[ 0.01243344  0.015063    0.00389182]\n",
      " [ 0.01479803  0.01792768  0.00463197]\n",
      " [-0.06916644 -0.08379451 -0.02164996]]\n"
     ]
    }
   ],
   "source": [
    "error_hidden_layer = np.dot(np.transpose(d_output), wout)\n",
    "print('error_hidden_layer:',error_hidden_layer)"
   ]
  },
  {
   "cell_type": "code",
   "execution_count": 9,
   "metadata": {},
   "outputs": [
    {
     "name": "stdout",
     "output_type": "stream",
     "text": [
      "d_hiddenlayer: [[ 0.00228501  0.00326332  0.00047254]\n",
      " [ 0.00147796  0.00277542  0.00056142]\n",
      " [-0.00647502 -0.01008805 -0.00472169]]\n"
     ]
    }
   ],
   "source": [
    "d_hiddenlayer = np.multiply(error_hidden_layer, slope_hidden_layer)\n",
    "print('d_hiddenlayer:',d_hiddenlayer)"
   ]
  },
  {
   "cell_type": "markdown",
   "metadata": {},
   "source": [
    "## Update weights at hidden & output layers"
   ]
  },
  {
   "cell_type": "code",
   "execution_count": 10,
   "metadata": {},
   "outputs": [
    {
     "name": "stdout",
     "output_type": "stream",
     "text": [
      "updated wh: [[0.06075728 0.05502926 0.96386473]\n",
      " [0.64115617 0.8060549  0.15942313]\n",
      " [0.49912916 0.37829978 0.25478829]\n",
      " [0.92642787 0.67382723 0.00202756]]\n",
      "updated wout: [[0.62507373 0.75860653 0.19131807]\n",
      " [0.62562178 0.75915459 0.19186613]\n",
      " [0.62773282 0.76126562 0.19397716]]\n"
     ]
    }
   ],
   "source": [
    "learning_rate = 0.1\n",
    "wout = wout + np.dot(a1,np.transpose(d_output)) * learning_rate\n",
    "wh = wh + np.dot(np.transpose(X), d_hiddenlayer) * learning_rate\n",
    "print('updated wh:', wh)\n",
    "print('updated wout:', wout)"
   ]
  },
  {
   "cell_type": "code",
   "execution_count": 11,
   "metadata": {},
   "outputs": [
    {
     "name": "stdout",
     "output_type": "stream",
     "text": [
      "updated bh: [[0.57871511 0.33337383 0.58476095]]\n",
      "updated bout: [[0.37507959]]\n"
     ]
    }
   ],
   "source": [
    "bh = bh + np.sum(d_hiddenlayer, axis = 0) * learning_rate\n",
    "bout = bout + np.sum(d_output, axis = 1) * learning_rate\n",
    "print('updated bh:', bh)\n",
    "print('updated bout:', bout)"
   ]
  }
 ],
 "metadata": {
  "kernelspec": {
   "display_name": "Python 3",
   "language": "python",
   "name": "python3"
  },
  "language_info": {
   "codemirror_mode": {
    "name": "ipython",
    "version": 3
   },
   "file_extension": ".py",
   "mimetype": "text/x-python",
   "name": "python",
   "nbconvert_exporter": "python",
   "pygments_lexer": "ipython3",
   "version": "3.6.3"
  }
 },
 "nbformat": 4,
 "nbformat_minor": 2
}
